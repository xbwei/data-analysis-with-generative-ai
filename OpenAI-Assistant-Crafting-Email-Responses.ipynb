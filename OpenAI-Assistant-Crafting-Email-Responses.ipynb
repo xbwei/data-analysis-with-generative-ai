{
 "cells": [
  {
   "cell_type": "markdown",
   "id": "ef723268-9cb4-4718-8194-b49edad2835c",
   "metadata": {},
   "source": [
    "# OpenAI Assistant Crafting Email Responses"
   ]
  },
  {
   "cell_type": "markdown",
   "id": "bd5e1c9c-6493-4da8-afeb-c2b7e90cbf0b",
   "metadata": {},
   "source": [
    "The [OpenAI Assistant API (beta)](https://platform.openai.com/docs/assistants/overview) leverages existing [OpenAI products](https://platform.openai.com/docs/assistants/tools), such as storage, vector databases, code interpreter, and function calling, for AI applications. For example, users can create a vector database without coding or upload data to execute Python commands during a conversation. The Assistant API can also store user messages in threads and automatically truncate text when needed.\n",
    "\n",
    "In this demo, we will create a vector database using the OpenAI website interface to store professors' course syllabi, retrieve students' emails, and use the OpenAI Assistant to respond to student emails automatically."
   ]
  },
  {
   "cell_type": "markdown",
   "id": "6e49363f-23db-4543-90da-dbbbfd2cd981",
   "metadata": {},
   "source": [
    "## Store Credentials\n",
    "\n",
    "Purchase an OpenAI API key and create an OpenAI Assistant. Store the credentials in a `config.ini` file as follows:\n",
    "\n",
    "```\n",
    "[openai]\n",
    "api_key = <your API key>\n",
    "\n",
    "[openai-assistant]\n",
    "assistant_id = <your assistant id>\n",
    "```"
   ]
  },
  {
   "cell_type": "markdown",
   "id": "f64d2760-9512-4563-bb43-37b7687c5856",
   "metadata": {},
   "source": [
    "## Retrieve Credentials"
   ]
  },
  {
   "cell_type": "code",
   "execution_count": null,
   "id": "d28a4ea4-bd6a-4e80-ae04-448cf3dce23d",
   "metadata": {},
   "outputs": [],
   "source": [
    "import configparser\n",
    "\n",
    "config = configparser.ConfigParser(interpolation=None)\n",
    "config.read('config.ini')\n",
    "\n",
    "openai_api_key   = config['openai']['api_key']\n",
    "\n",
    "assistant_id = config['openai-assistant']['assistant_id']"
   ]
  },
  {
   "cell_type": "markdown",
   "id": "3c74874e-a49d-4021-9e52-b25ec6fabbf7",
   "metadata": {},
   "source": [
    "## OpenAI Assistant API\n",
    "\n",
    "Retrieve the API key and assistant ID. The assistant can access the uploaded course syllabus and final project instructions. \n",
    "\n",
    "A function is created to answer student emails. Provide the sender's name and email content, and the assistant will generate a reply based on the syllabus and final project instructions."
   ]
  },
  {
   "cell_type": "code",
   "execution_count": null,
   "id": "ac220ba3-07b5-4e8c-b32b-e01efa3fc0f9",
   "metadata": {},
   "outputs": [],
   "source": [
    "from openai import OpenAI\n",
    "\n",
    "\n",
    "client = OpenAI(api_key=openai_api_key)\n",
    "\n",
    "#provide the assisatne id bellow\n",
    "assistant = client.beta.assistants.retrieve(assistant_id)\n"
   ]
  },
  {
   "cell_type": "code",
   "execution_count": null,
   "id": "517b77ba-06f4-462c-8f5c-369d871e1213",
   "metadata": {},
   "outputs": [],
   "source": [
    "def ask_assistant(question):\n",
    "    thread = client.beta.threads.create()\n",
    "    \n",
    "    client.beta.threads.messages.create(\n",
    "        thread_id=thread.id,\n",
    "        role=\"user\",\n",
    "        content=question\n",
    "    )\n",
    "    \n",
    "    run = client.beta.threads.runs.create(\n",
    "        thread_id=thread.id,\n",
    "        assistant_id=assistant.id\n",
    "    )\n",
    "    \n",
    "    while run.status != 'completed':\n",
    "        run = client.beta.threads.runs.retrieve(thread_id=thread.id, run_id=run.id)\n",
    "    \n",
    "    messages = client.beta.threads.messages.list(thread_id=thread.id)\n",
    "    return messages.data[0].content[0].text.value"
   ]
  },
  {
   "cell_type": "markdown",
   "id": "34c88183-44b0-4692-9252-cb294252e479",
   "metadata": {},
   "source": [
    "Test the function."
   ]
  },
  {
   "cell_type": "code",
   "execution_count": null,
   "id": "4f00f6b1-7ff4-4721-a4a2-09a92646e6e2",
   "metadata": {},
   "outputs": [],
   "source": [
    "answer = ask_assistant(\"name xuebin, body: when is the final exam \")\n",
    "print(answer)"
   ]
  },
  {
   "cell_type": "markdown",
   "id": "69346df1-8e29-4007-a4ad-0ea6e71545bc",
   "metadata": {},
   "source": [
    "## Reply to Emails\n",
    "\n",
    "This code runs locally to retrieve received emails in Outlook. If the sender's address matches specific patterns, the sender's name and message are passed to the OpenAI Assistant function. \n",
    "\n",
    "The automatically created reply will be saved as a draft."
   ]
  },
  {
   "cell_type": "code",
   "execution_count": null,
   "id": "bbda5019-7d85-471e-a671-2fe7e8af9de0",
   "metadata": {},
   "outputs": [],
   "source": [
    "import win32com.client\n",
    "import re\n",
    "\n",
    "def extract_name(email):\n",
    "    pattern = r\"^([^@]+)@\"\n",
    "    match = re.search(pattern, email)\n",
    "    return match.group(1) if match else email\n",
    "\n",
    "def process_emails(sender_filter):\n",
    "    outlook = win32com.client.Dispatch(\"Outlook.Application\").GetNamespace(\"MAPI\")\n",
    "    inbox = outlook.GetDefaultFolder(6)\n",
    "    messages = inbox.Items\n",
    "    messages.Sort(\"[ReceivedTime]\", True)\n",
    "\n",
    "    for message in messages:\n",
    "        if sender_filter.lower() in message.SenderEmailAddress.lower():\n",
    "            if message.UnRead :\n",
    "                sender_name = message.SenderName\n",
    "                body_text = message.Body\n",
    "    \n",
    "                print(f\"Sender: {sender_name}\")\n",
    "\n",
    "                print(f\"Body: {body_text[:100]}...\")  # Print first 100 characters\n",
    "    \n",
    "                reply = message.Reply()\n",
    "                reply_body = ask_assistant(f\"sender: {sender_name}, body:{body_text}\")\n",
    "                reply.Body = f\"{reply_body}\\n\\n--- Original Message ---\\n{message.Body}\"\n",
    "              \n",
    "                reply.Save()\n",
    "\n",
    "    \n"
   ]
  },
  {
   "cell_type": "markdown",
   "id": "30dbd220-2b60-4a90-95e9-b2ea9b0d746f",
   "metadata": {},
   "source": [
    "Test emails"
   ]
  },
  {
   "cell_type": "code",
   "execution_count": null,
   "id": "0529be11-8f1b-4177-81ba-28a95fcb222a",
   "metadata": {},
   "outputs": [],
   "source": [
    "sender_filter = \"weixuebin@gmail.com\"  # Replace with the desired sender domain or email\n",
    "process_emails(sender_filter)"
   ]
  },
  {
   "cell_type": "code",
   "execution_count": null,
   "id": "19cdc8f9-7b16-499f-b6ad-654e9e34bf2f",
   "metadata": {},
   "outputs": [],
   "source": []
  }
 ],
 "metadata": {
  "kernelspec": {
   "display_name": "conda_pytorch_p310",
   "language": "python",
   "name": "conda_pytorch_p310"
  },
  "language_info": {
   "codemirror_mode": {
    "name": "ipython",
    "version": 3
   },
   "file_extension": ".py",
   "mimetype": "text/x-python",
   "name": "python",
   "nbconvert_exporter": "python",
   "pygments_lexer": "ipython3",
   "version": "3.10.14"
  }
 },
 "nbformat": 4,
 "nbformat_minor": 5
}
