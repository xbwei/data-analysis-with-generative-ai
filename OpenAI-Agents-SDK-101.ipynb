{
  "cells": [
    {
      "cell_type": "markdown",
      "metadata": {},
      "source": [
        "# OpenAI Agents SDK 101: Build Tools‑Enabled AI Agents (Python)\n",
        "\n",
        "Learn how to:\n",
        "- Securely load your OpenAI API key from AWS Secrets Manager\n",
        "- Initialize the OpenAI Python SDK\n",
        "- Build an agent that can use tools (function calling)\n",
        "- Maintain conversation state (memory) across turns\n",
        "- Optionally explore the Assistants API and retrieval basics\n",
        "\n",
        "This notebook is beginner‑friendly and focused on practical, copy‑pasteable examples."
      ]
    },
    {
      "cell_type": "markdown",
      "metadata": {},
      "source": [
        "## Prerequisites\n",
        "- Python 3.9+ recommended\n",
        "- An AWS account with a secret named `openai` in AWS Secrets Manager. The secret value should be JSON like:\n",
        "  ```json\n",
        "  {\n",
        "    \"api_key\": \"sk-...\"\n",
        "  }\n",
        "  ```\n",
        "- AWS credentials configured locally (e.g., via `aws configure` or environment variables) with permission to read Secrets Manager.\n",
        "- Python packages: `openai` (>=1.0), `boto3`.\n",
        "\n",
        "If you need to install packages in this environment, run:" 
      ]
    },
    {
      "cell_type": "code",
      "execution_count": null,
      "metadata": {},
      "outputs": [],
      "source": [
        "# If needed, uncomment and run:\n",
        "# %pip install --upgrade openai boto3\n",
        "# For Assistants API file features you may also want: \n",
        "# %pip install python-dotenv tiktoken\n"
      ]
    },
    {
      "cell_type": "markdown",
      "metadata": {},
      "source": [
        "## Load API Key from AWS Secrets Manager\n",
        "We will use AWS Secrets Manager to retrieve the OpenAI API key. This helper uses the `openai` secret and expects an `api_key` field."
      ]
    },
    {
      "cell_type": "code",
      "execution_count": null,
      "metadata": {},
      "outputs": [],
      "source": [
        "import json\n",
        "import boto3\n",
        "from botocore.exceptions import ClientError\n",
        "\n",
        "def get_secret(secret_name: str, region_name: str = \"us-east-1\") -> dict:\n",
        "    \"\"\"Fetch and return a JSON secret from AWS Secrets Manager.\n",
        "    Expects the secret's SecretString to be JSON.\n",
        "    \"\"\"\n",
        "    session = boto3.session.Session()\n",
        "    client = session.client(service_name=\"secretsmanager\", region_name=region_name)\n",
        "    try:\n",
        "        resp = client.get_secret_value(SecretId=secret_name)\n",
        "    except ClientError as e:\n",
        "        raise RuntimeError(f\"Failed to retrieve secret '{secret_name}': {e}\")\n",
        "    secret_str = resp.get(\"SecretString\")\n",
        "    if not secret_str:\n",
        "        raise RuntimeError(\"SecretString is empty or missing.\")\n",
        "    return json.loads(secret_str)\n",
        "\n",
        "# Retrieve the OpenAI API key from Secret 'openai'\n",
        "openai_secret = get_secret('openai')\n",
        "openai_api_key = openai_secret['api_key']\n",
        "print('Loaded OpenAI API key from AWS Secrets Manager (masked).')\n"
      ]
    },
    {
      "cell_type": "markdown",
      "metadata": {},
      "source": [
        "## Initialize the OpenAI SDK\n",
        "We'll use the Python SDK (v1+) with the `OpenAI` client."
      ]
    },
    {
      "cell_type": "code",
      "execution_count": null,
      "metadata": {},
      "outputs": [],
      "source": [
        "from openai import OpenAI\n",
        "\n",
        "client = OpenAI(api_key=openai_api_key)\n",
        "# Pick a reasonably priced, tool-capable model. Adjust as needed.\n",
        "DEFAULT_MODEL = 'gpt-4o-mini'\n",
        "print('OpenAI client initialized.')\n"
      ]
    },
    {
      "cell_type": "markdown",
      "metadata": {},
      "source": [
        "## Hello, Agent (Basic Chat)\n",
        "A minimal call using the Chat Completions API."
      ]
    },
    {
      "cell_type": "code",
      "execution_count": null,
      "metadata": {},
      "outputs": [],
      "source": [
        "response = client.chat.completions.create(\n",
        "    model=DEFAULT_MODEL,\n",
        "    messages=[\n",
        "        {\"role\": \"system\", \"content\": \"You are a concise, helpful teaching assistant.\"},\n",
        "        {\"role\": \"user\", \"content\": \"Explain what an AI agent is in one sentence.\"},\n",
        "    ],\n",
        ")\n",
        "print(response.choices[0].message.content)\n"
      ]
    },
    {
      "cell_type": "markdown",
      "metadata": {},
      "source": [
        "## Tool Use (Function Calling)\n",
        "Agents become powerful when they can use tools: call your functions with structured inputs.\n",
        "Below we define two example tools and let the model decide when to use them."
      ]
    },
    {
      "cell_type": "code",
      "execution_count": null,
      "metadata": {},
      "outputs": [],
      "source": [
        "import math\n",
        "from datetime import datetime\n",
        "\n",
        "def calculator(operation: str, a: float, b: float) -> float:\n",
        "    if operation == 'add':\n",
        "        return a + b\n",
        "    if operation == 'sub':\n",
        "        return a - b\n",
        "    if operation == 'mul':\n",
        "        return a * b\n",
        "    if operation == 'div':\n",
        "        return a / b\n",
        "    if operation == 'pow':\n",
        "        return math.pow(a, b)\n",
        "    raise ValueError('Unsupported operation')\n",
        "\n",
        "def get_time(tz: str = 'UTC') -> str:\n",
        "    # Simple placeholder: ignores tz and returns ISO time.\n",
        "    return datetime.utcnow().isoformat() + 'Z'\n",
        "\n",
        "tools = [\n",
        "    {\n",
        "        'type': 'function',\n",
        "        'function': {\n",
        "            'name': 'calculator',\n",
        "            'description': 'Perform basic arithmetic operations.',\n",
        "            'parameters': {\n",
        "                'type': 'object',\n",
        "                'properties': {\n",
        "                    'operation': { 'type': 'string', 'enum': ['add','sub','mul','div','pow'] },\n",
        "                    'a': { 'type': 'number' },\n",
        "                    'b': { 'type': 'number' }\n",
        "                },\n",
        "                'required': ['operation','a','b']\n",
        "            }\n",
        "        }\n",
        "    },\n",
        "    {\n",
        "        'type': 'function',\n",
        "        'function': {\n",
        "            'name': 'get_time',\n",
        "            'description': 'Get current time in ISO8601 (UTC).',\n",
        "            'parameters': {\n",
        "                'type': 'object',\n",
        "                'properties': { 'tz': { 'type': 'string' } },\n",
        "                'required': []\n",
        "            }\n",
        "        }\n",
        "    }\n",
        "]\n",
        "\n",
        "messages = [\n",
        "    { 'role': 'system', 'content': 'You are a helpful agent. Use tools when helpful.' },\n",
        "    { 'role': 'user', 'content': 'What is (3^4 + 10) / 2? Also, what time is it now?' },\n",
        "]\n",
        "\n",
        "resp = client.chat.completions.create(model=DEFAULT_MODEL, messages=messages, tools=tools, tool_choice='auto')\n",
        "msg = resp.choices[0].message\n",
        "print('Model draft:\n', msg)\n",
        "\n",
        "# If the model requested tool calls, execute them and feed results back.\n",
        "if msg.tool_calls:\n",
        "    # IMPORTANT: append the assistant message WITH tool_calls before any tool responses.\n",
        "    messages.append({\n",
        "        'role': 'assistant',\n",
        "        'content': msg.content or '',\n",
        "        'tool_calls': [\n",
        "            {\n",
        "                'id': tc.id,\n",
        "                'type': 'function',\n",
        "                'function': { 'name': tc.function.name, 'arguments': tc.function.arguments or '{}' }\n",
        "            } for tc in (msg.tool_calls or [])\n",
        "        ]\n",
        "    })\n",
        "    for call in msg.tool_calls:\n",
        "        name = call.function.name\n",
        "        args = json.loads(call.function.arguments or '{}')\n",
        "        if name == 'calculator':\n",
        "            result = calculator(**args)\n",
        "        elif name == 'get_time':\n",
        "            result = get_time(**args)\n",
        "        else:\n",
        "            result = f\"Unknown tool: {name}\"\n",
        "        messages.append({ 'role': 'tool', 'tool_call_id': call.id, 'content': json.dumps({'result': result}) })\n",
        "    # Ask the model to produce a final answer using tool outputs\n",
        "    final = client.chat.completions.create(model=DEFAULT_MODEL, messages=messages)\n",
        "    print('\nFinal answer:\n', final.choices[0].message.content)\n",
        "else:\n",
        "    print('\nNo tool calls. Assistant says:\n', msg.content)\n"
      ]
    },
    {
      "cell_type": "markdown",
      "metadata": {},
      "source": [
        "## Minimal Reusable Agent Wrapper\n",
        "A small helper that preserves message history and tools across turns."
      ]
    },
    {
      "cell_type": "code",
      "execution_count": null,
      "metadata": {},
      "outputs": [],
      "source": [
        "class Agent:\n",
        "    def __init__(self, client: OpenAI, model: str, system_prompt: str = 'You are a helpful agent.', tools: list | None = None):\n",
        "        self.client = client\n",
        "        self.model = model\n",
        "        self.messages = [ { 'role': 'system', 'content': system_prompt } ]\n",
        "        self.tools = tools or []\n",
        "\n",
        "    def ask(self, content: str) -> str:\n",
        "        self.messages.append({ 'role': 'user', 'content': content })\n",
        "        resp = self.client.chat.completions.create(model=self.model, messages=self.messages, tools=self.tools or None, tool_choice='auto' if self.tools else 'none')\n",
        "        msg = resp.choices[0].message\n",
        "        self.messages.append({ 'role': 'assistant', 'content': msg.content or '' , 'tool_calls': msg.tool_calls })\n",
        "        if msg.tool_calls:\n",
        "            for call in msg.tool_calls:\n",
        "                name = call.function.name\n",
        "                args = json.loads(call.function.arguments or '{}')\n",
        "                if name == 'calculator':\n",
        "                    result = calculator(**args)\n",
        "                elif name == 'get_time':\n",
        "                    result = get_time(**args)\n",
        "                else:\n",
        "                    result = f\"Unknown tool: {name}\"\n",
        "                self.messages.append({ 'role': 'tool', 'tool_call_id': call.id, 'content': json.dumps({'result': result}) })\n",
        "            followup = self.client.chat.completions.create(model=self.model, messages=self.messages)\n",
        "            final_text = followup.choices[0].message.content or ''\n",
        "            self.messages.append({ 'role': 'assistant', 'content': final_text })\n",
        "            return final_text\n",
        "        return msg.content or ''\n",
        "\n",
        "agent = Agent(client, DEFAULT_MODEL, tools=tools)\n",
        "print(agent.ask('Compute (5*7)+11 and tell me current time.'))\n",
        "print(agent.ask('Great, remind me what we just calculated.'))\n"
      ]
    },
    {
      "cell_type": "markdown",
      "metadata": {},
      "source": [
        "## Optional: Assistants API Preview\n",
        "The Assistants API provides hosted tools like code interpreter and retrieval.\n",
        "Below is a minimal sketch; ensure your `openai` package is recent."
      ]
    },
    {
      "cell_type": "code",
      "execution_count": null,
      "metadata": {},
      "outputs": [],
      "source": [
        "# Note: This requires an SDK version that includes beta.assistants.*\n",
        "# from openai import OpenAI\n",
        "# client = OpenAI(api_key=openai_api_key)\n",
        "#\n",
        "# assistant = client.beta.assistants.create(\n",
        "#     name=\"Math + Time Assistant\",\n",
        "#     instructions=\"You can compute and tell time. Be concise.\",\n",
        "#     model=DEFAULT_MODEL,\n",
        "#     tools=[{ 'type': 'code_interpreter' }]\n",
        "# )\n",
        "#\n",
        "# thread = client.beta.threads.create()\n",
        "# client.beta.threads.messages.create(thread_id=thread.id, role=\"user\", content=\"What's 123*45?\")\n",
        "# run = client.beta.threads.runs.create(thread_id=thread.id, assistant_id=assistant.id)\n",
        "# # Poll run status until completed, then read messages:\n",
        "# import time as _t\n",
        "# while True:\n",
        "#     r = client.beta.threads.runs.retrieve(thread_id=thread.id, run_id=run.id)\n",
        "#     if r.status in ['completed','failed','cancelled','expired']:\n",
        "#         break\n",
        "#     _t.sleep(1)\n",
        "# messages = client.beta.threads.messages.list(thread.id)\n",
        "# print(messages.data[0].content[0].text.value)\n"
      ]
    },
    {
      "cell_type": "markdown",
      "metadata": {},
      "source": [
        "## Optional: Retrieval (RAG) Basics with Assistants\n",
        "High level outline (requires file upload permissions):\n",
        "- Upload files with `client.files.create(...)`\n",
        "- Attach files to an assistant or a vector store\n",
        "- Ask questions; the assistant retrieves relevant chunks\n",
        "\n",
        "See OpenAI docs for details and quotas."
      ]
    },
    {
      "cell_type": "markdown",
      "metadata": {},
      "source": [
        "## Best Practices\n",
        "- Keep system instructions short and specific\n",
        "- Constrain tools with strict JSON Schemas\n",
        "- Log tool I/O and handle errors defensively\n",
        "- Cache model outputs where possible to control cost\n",
        "- Prefer smaller, cheaper models for tool routing; escalate only when needed\n",
        "- Never print secrets in logs or notebooks\n",
        "\n",
        "You now have a working template to build agents that call your Python functions, maintain memory, and optionally leverage the Assistants API."
      ]
    }
  ],
  "metadata": {
    "kernelspec": {
      "display_name": "Python 3",
      "language": "python",
      "name": "python3"
    },
    "language_info": {
      "name": "python",
      "version": "3"
    }
  },
  "nbformat": 4,
  "nbformat_minor": 5
}
