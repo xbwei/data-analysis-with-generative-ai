{
 "cells": [
  {
   "cell_type": "markdown",
   "id": "57f1eff0-5349-4778-ad29-9cd14cc2a966",
   "metadata": {},
   "source": [
    "# Collect_Twitter_Data"
   ]
  },
  {
   "cell_type": "markdown",
   "id": "6557ec59-d7dd-477c-a329-42655807b081",
   "metadata": {},
   "source": [
    "## Install Python libraries"
   ]
  },
  {
   "cell_type": "markdown",
   "id": "9a59aa4f-fe96-4c36-860b-b6cadb051775",
   "metadata": {},
   "source": [
    "We need the [pymongo](https://pypi.org/project/pymongo/) to manage the MongoDB database, and [tweepy](https://www.tweepy.org/) to call the Twitter APIs."
   ]
  },
  {
   "cell_type": "code",
   "execution_count": null,
   "id": "80b7a187-9aaa-415d-9b12-af88fc29acbb",
   "metadata": {
    "tags": []
   },
   "outputs": [],
   "source": [
    "pip install pymongo"
   ]
  },
  {
   "cell_type": "code",
   "execution_count": null,
   "id": "3f526554-c100-4747-8b25-148a2602353e",
   "metadata": {
    "tags": []
   },
   "outputs": [],
   "source": [
    "pip install tweepy"
   ]
  },
  {
   "cell_type": "markdown",
   "id": "b53da235-9df8-4ac0-b5a8-4952c5460a66",
   "metadata": {},
   "source": [
    "## Secret Manager Function"
   ]
  },
  {
   "cell_type": "code",
   "execution_count": null,
   "id": "c1ec8411-fe46-4795-a493-6b1a55294954",
   "metadata": {
    "tags": []
   },
   "outputs": [],
   "source": [
    "import boto3\n",
    "from botocore.exceptions import ClientError\n",
    "import json\n",
    "\n",
    "def get_secret(secret_name):\n",
    "    region_name = \"us-east-1\"\n",
    "\n",
    "    # Create a Secrets Manager client\n",
    "    session = boto3.session.Session()\n",
    "    client = session.client(\n",
    "        service_name='secretsmanager',\n",
    "        region_name=region_name\n",
    "    )\n",
    "\n",
    "    try:\n",
    "        get_secret_value_response = client.get_secret_value(\n",
    "            SecretId=secret_name\n",
    "        )\n",
    "    except ClientError as e:\n",
    "        raise e\n",
    "\n",
    "    secret = get_secret_value_response['SecretString']\n",
    "    \n",
    "    return json.loads(secret)"
   ]
  },
  {
   "cell_type": "markdown",
   "id": "42f3dc4a-fbd3-4089-99d6-19e19112fc74",
   "metadata": {
    "tags": []
   },
   "source": [
    "## Import Python Libraries and Credentials  "
   ]
  },
  {
   "cell_type": "code",
   "execution_count": null,
   "id": "d9693a5a-f992-45a0-9961-0f7b1e7d2f55",
   "metadata": {
    "tags": []
   },
   "outputs": [],
   "source": [
    "import pymongo\n",
    "from pymongo import MongoClient\n",
    "import json\n",
    "import tweepy\n",
    "\n",
    "bearer_token   = get_secret('twitter_api')['bearer_token']\n",
    "\n",
    "mongodb_connect = get_secret('mongodb')['connection_string']"
   ]
  },
  {
   "cell_type": "markdown",
   "id": "483a6608-4d5a-4743-8b59-3e5dc3392053",
   "metadata": {},
   "source": [
    "## Connect to the MongoDB cluster"
   ]
  },
  {
   "cell_type": "markdown",
   "id": "cec329ed-eb8c-43fd-b648-e16ffb671625",
   "metadata": {},
   "source": [
    "We will create a database named 'demo' and a collection named 'tweet_collection' in your MongoDB database."
   ]
  },
  {
   "cell_type": "code",
   "execution_count": null,
   "id": "4dc19bad-51d9-4f00-b1cc-3c7ee1ec4c43",
   "metadata": {
    "tags": []
   },
   "outputs": [],
   "source": [
    "mongo_client = MongoClient(mongodb_connect)\n",
    "db = mongo_client.demo # use or create a database named demo\n",
    "tweet_collection = db.tweet_collection #use or create a collection named tweet_collection\n",
    "tweet_collection.create_index([(\"tweet.id\", pymongo.ASCENDING)],unique = True) # make sure the collected tweets are unique"
   ]
  },
  {
   "cell_type": "markdown",
   "id": "6ae1cf9f-0ef0-495b-b1fd-d3f7ad205feb",
   "metadata": {},
   "source": [
    "## Use the API to collect tweets"
   ]
  },
  {
   "cell_type": "markdown",
   "id": "929f1c79-ddc1-429a-ac39-da29961cc74c",
   "metadata": {},
   "source": [
    "For more about Twitter API 2.0 query operators, please check [Search Tweets](https://developer.twitter.com/en/docs/twitter-api/tweets/search/integrate/build-a-query)"
   ]
  },
  {
   "cell_type": "code",
   "execution_count": null,
   "id": "e124c5a1-495a-43ad-81a6-4d0c063f13f6",
   "metadata": {
    "tags": []
   },
   "outputs": [],
   "source": [
    "query = 'generative ai'  #query tweets contain the word of 'generative ai'"
   ]
  },
  {
   "cell_type": "markdown",
   "id": "ae9141e7-af4d-4bc6-bcc2-710fa2e8a569",
   "metadata": {},
   "source": [
    "Insert the collected Tweets into the MongoDB database. You can set a different max_result, but the max tweets we can collect is 100."
   ]
  },
  {
   "cell_type": "code",
   "execution_count": null,
   "id": "0c658c37-2112-4ff4-9ba2-4b7cb83c44fb",
   "metadata": {
    "tags": []
   },
   "outputs": [],
   "source": [
    "tweet_client = tweepy.Client(bearer_token)\n",
    "\n",
    "tweets = tweet_client.search_recent_tweets(query=query, max_results=100,\n",
    "                                    expansions=['author_id'], \n",
    "                                    tweet_fields = ['created_at','entities','lang','public_metrics','geo'],\n",
    "                                    user_fields = ['id', 'location','name', 'public_metrics','username'])\n",
    "\n",
    "next_token = tweets.meta['next_token']\n",
    "for user, tweet in zip(tweets.includes['users'],tweets.data):\n",
    "    tweet_json = {}\n",
    "    tweet_json['tweet']= tweet.data\n",
    "    tweet_json['user'] = user.data\n",
    "    try:\n",
    "        tweet_collection.insert_one(tweet_json)\n",
    "        print(tweet_json['tweet']['created_at'])\n",
    "    except:\n",
    "        pass"
   ]
  },
  {
   "cell_type": "markdown",
   "id": "6ebcde75-fded-4a1b-865a-4774b723dd31",
   "metadata": {},
   "source": [
    "Continue fetching early tweets with the same query. YOU WILL REACH YOUR RATE LIMIT VERY FAST!"
   ]
  },
  {
   "cell_type": "code",
   "execution_count": null,
   "id": "f48e6f2a-e171-46a0-b4b2-8ef3ca7f6c1a",
   "metadata": {
    "tags": []
   },
   "outputs": [],
   "source": [
    "for i in range(5): # change the number here to fetch more tweets\n",
    "    tweets = tweet_client.search_recent_tweets(query=query, max_results=100,\n",
    "                                        expansions=['author_id'], \n",
    "                                        tweet_fields = ['created_at','entities','lang','public_metrics','geo'],\n",
    "                                        user_fields = ['id', 'location','name', 'public_metrics','username'],\n",
    "                                        next_token=next_token)\n",
    "    next_token = tweets.meta['next_token']\n",
    "    for user, tweet in zip(tweets.includes['users'],tweets.data):\n",
    "        tweet_json = {}\n",
    "        tweet_json['tweet']= tweet.data\n",
    "        tweet_json['user'] = user.data\n",
    "        try:\n",
    "            tweet_collection.insert_one(tweet_json)\n",
    "            print(tweet_json['tweet']['created_at'])\n",
    "        except:\n",
    "            pass"
   ]
  },
  {
   "cell_type": "markdown",
   "id": "e6367268-1426-477a-b89a-54886f3f46b6",
   "metadata": {},
   "source": [
    "## Close Database Connection"
   ]
  },
  {
   "cell_type": "code",
   "execution_count": null,
   "id": "5b174ef4-e75a-4540-ba96-0dd92e8e5b33",
   "metadata": {
    "tags": []
   },
   "outputs": [],
   "source": [
    "mongo_client.close()"
   ]
  },
  {
   "cell_type": "code",
   "execution_count": null,
   "id": "093683c5-fe55-49bb-b19a-f6084179927d",
   "metadata": {},
   "outputs": [],
   "source": []
  }
 ],
 "metadata": {
  "kernelspec": {
   "display_name": "conda_python3",
   "language": "python",
   "name": "conda_python3"
  },
  "language_info": {
   "codemirror_mode": {
    "name": "ipython",
    "version": 3
   },
   "file_extension": ".py",
   "mimetype": "text/x-python",
   "name": "python",
   "nbconvert_exporter": "python",
   "pygments_lexer": "ipython3",
   "version": "3.10.17"
  }
 },
 "nbformat": 4,
 "nbformat_minor": 5
}
